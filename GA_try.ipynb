{
 "cells": [
  {
   "cell_type": "code",
   "execution_count": 18,
   "metadata": {
    "collapsed": true
   },
   "outputs": [],
   "source": [
    "import numpy as np\n",
    "import random\n",
    "import operator\n",
    "import pandas as pd\n",
    "import matplotlib.pyplot as plt "
   ]
  },
  {
   "cell_type": "code",
   "execution_count": 19,
   "metadata": {},
   "outputs": [],
   "source": [
    "t = np.int_([3,8,4.5,6,4,4,3,3,3,2,7])\n",
    "\n",
    "def generateBool():\n",
    "    number = np.zeros((10), dtype=int)\n",
    "    for i in range(10):\n",
    "        number[i] = random.randrange(2)\n",
    "    return number\n",
    "    \n",
    "def matrixGen():\n",
    "    limit = np.zeros((11), dtype=int)\n",
    "    matrix = np.zeros((10,11), dtype=int)\n",
    "    for i in range(11):\n",
    "        if (i==0):\n",
    "            limit[i] = int(1290/t[i])\n",
    "            for j in range(10):\n",
    "                matrix[j,i] = random.randrange(limit[i])\n",
    "                    \n",
    "        elif (i==1):\n",
    "            for j in range(10):\n",
    "                limit[i] = int((1290-matrix[j,i-1]*t[i-1])/t[i])\n",
    "                if (limit[i]==0):\n",
    "                    continue\n",
    "                matrix[j,i] = random.randrange(limit[i])\n",
    "                \n",
    "        elif (i==2):\n",
    "            for j in range(10):\n",
    "                limit[i] = int((1290-matrix[j,i-2]*t[i-2]-matrix[j,i-1]*t[i-1])/t[i])\n",
    "                if (limit[i]==0):\n",
    "                    continue\n",
    "                matrix[j,i] = random.randrange(limit[i])\n",
    "                \n",
    "        elif (i==3):\n",
    "            for j in range(10):\n",
    "                limit[i] = int((1290-matrix[j,i-3]*t[i-3]-matrix[j,i-2]*t[i-2]-matrix[j,i-1]*t[i-1])/t[i])\n",
    "                if (limit[i]==0):\n",
    "                    continue\n",
    "                matrix[j,i] = random.randrange(limit[i])\n",
    "                \n",
    "        elif (i==4):\n",
    "            for j in range(10):\n",
    "                limit[i] = int((1290-matrix[j,i-4]*t[i-4]-matrix[j,i-3]*t[i-3]-matrix[j,i-2]*t[i-2]-matrix[j,i-1]*t[i-1])/t[i])\n",
    "                if (limit[i]==0):\n",
    "                    continue\n",
    "                matrix[j,i] = random.randrange(limit[i])\n",
    "                \n",
    "        elif (i==5):\n",
    "            for j in range(10):\n",
    "                limit[i] = int((1290-matrix[j,i-5]*t[i-5]-matrix[j,i-4]*t[i-4]-matrix[j,i-3]*t[i-3]-matrix[j,i-2]*t[i-2]-matrix[j,i-1]*t[i-1])/t[i])\n",
    "                if (limit[i]==0):\n",
    "                    continue\n",
    "                matrix[j,i] = random.randrange(limit[i])\n",
    "                \n",
    "        elif (i==6):\n",
    "            for j in range(10):\n",
    "                limit[i] = int((1290-matrix[j,i-6]*t[i-6]-matrix[j,i-5]*t[i-5]-matrix[j,i-4]*t[i-4]-matrix[j,i-3]*t[i-3]-matrix[j,i-2]*t[i-2]-matrix[j,i-1]*t[i-1])/t[i])\n",
    "                if (limit[i]==0):\n",
    "                    continue\n",
    "                matrix[j,i] = random.randrange(limit[i])\n",
    "                \n",
    "        elif (i==7):\n",
    "            for j in range(10):\n",
    "                limit[i] = int((1290-matrix[j,i-7]*t[i-7]-matrix[j,i-6]*t[i-6]-matrix[j,i-5]*t[i-5]-matrix[j,i-4]*t[i-4]-matrix[j,i-3]*t[i-3]-matrix[j,i-2]*t[i-2]-matrix[j,i-1]*t[i-1])/t[i])\n",
    "                if (limit[i]==0):\n",
    "                    continue\n",
    "                matrix[j,i] = random.randrange(limit[i])\n",
    "                \n",
    "        elif (i==8):\n",
    "            for j in range(10):\n",
    "                limit[i] = int((1290-matrix[j,i-8]*t[i-8]-matrix[j,i-7]*t[i-7]-matrix[j,i-6]*t[i-6]-matrix[j,i-5]*t[i-5]-matrix[j,i-4]*t[i-4]-matrix[j,i-3]*t[i-3]-matrix[j,i-2]*t[i-2]-matrix[j,i-1]*t[i-1])/t[i])\n",
    "                if (limit[i]==0):\n",
    "                    continue\n",
    "                matrix[j,i] = random.randrange(limit[i])\n",
    "                \n",
    "        elif (i==9):\n",
    "            for j in range(10):\n",
    "                limit[i] = int((1290-matrix[j,i-9]*t[i-9]-matrix[j,i-8]*t[i-8]-matrix[j,i-7]*t[i-7]-matrix[j,i-6]*t[i-6]-matrix[j,i-5]*t[i-5]-matrix[j,i-4]*t[i-4]-matrix[j,i-3]*t[i-3]-matrix[j,i-2]*t[i-2]-matrix[j,i-1]*t[i-1])/t[i])\n",
    "                if (limit[i]==0):\n",
    "                    continue\n",
    "                matrix[j,i] = random.randrange(limit[i])\n",
    "                \n",
    "        elif (i==10):\n",
    "            for j in range(10):\n",
    "                limit[i] = int((1290-matrix[j,i-10]*t[i-10]-matrix[j,i-9]*t[i-9]-matrix[j,i-8]*t[i-8]-matrix[j,i-7]*t[i-7]-matrix[j,i-6]*t[i-6]-matrix[j,i-5]*t[i-5]-matrix[j,i-4]*t[i-4]-matrix[j,i-3]*t[i-3]-matrix[j,i-2]*t[i-2]-matrix[j,i-1]*t[i-1])/t[i])\n",
    "                if (limit[i]==0):\n",
    "                    continue\n",
    "                matrix[j,i] = random.randrange(limit[i])\n",
    "                    \n",
    "    return matrix"
   ]
  },
  {
   "cell_type": "code",
   "execution_count": 20,
   "metadata": {},
   "outputs": [],
   "source": [
    "Adef = np.int_([1, 0, 1, 0, 1, 0, 1, 0, 1, 0, 1])\n",
    "Bdef = np.int_([0, 1, 0, 1, 0, 1, 0, 1, 0, 1, 0])\n",
    "size = 50"
   ]
  },
  {
   "cell_type": "code",
   "execution_count": 21,
   "metadata": {},
   "outputs": [],
   "source": [
    "def generatePiece():\n",
    "    A = generateBool()\n",
    "    B = generateBool()\n",
    "    C = generateBool()\n",
    "    Aut_a = generateBool()\n",
    "    Aut_b = generateBool()\n",
    "    Aut_c = generateBool()\n",
    "    \n",
    "    Sa = np.multiply(Aut_a, A)\n",
    "    Sb = np.multiply(Aut_b, B)\n",
    "    Sc = np.multiply(Aut_c, C)\n",
    "    \n",
    "    sum_Sab = (np.sum(Sa) + np.sum(Sb))*(150000 + 380000)\n",
    "    sum_Sc  = (np.sum(Sc))*(280000 + 380000)\n",
    "    \n",
    "    Na = A - Sa\n",
    "    Nb = B - Sb\n",
    "    Nc = C - Sc\n",
    "    \n",
    "    sum_Nab = (np.sum(Na) + np.sum(Nb))*150000\n",
    "    sum_Nc  = np.sum(Nc) * 280000\n",
    "    \n",
    "    sum_SN = int((sum_Sab + sum_Sc + sum_Nab + sum_Nc)*0.015)\n",
    "    \n",
    "    matrixA = matrixGen()\n",
    "    matrixB = matrixGen()\n",
    "    matrixC = matrixGen()\n",
    "    \n",
    "    Op_Na = Na.dot(matrixA)\n",
    "    Op_Nb = Nb.dot(matrixB)\n",
    "    Op_Nc = Nc.dot(matrixC)\n",
    "    \n",
    "    Op_Sa = Sa.dot(matrixA)\n",
    "    Op_Sb = Sb.dot(matrixB)\n",
    "    Op_Sc = Sc.dot(matrixC)\n",
    "    \n",
    "    OpTOT = Op_Na + Op_Nb + Op_Nc + Op_Sa + Op_Sb + Op_Sc\n",
    "    numA = np.zeros(10, dtype=int)\n",
    "    numB = np.zeros(10, dtype=int)\n",
    "    \n",
    "    for i in range(10):\n",
    "        if (i<9):\n",
    "            numA[i] = int(OpTOT[i]/2)\n",
    "            numB[i] = int(OpTOT[i]/2)\n",
    "        elif (i == 10):\n",
    "            numA[i] = OpTOT[i]\n",
    "            numB[i] = OpTOT[i+1]\n",
    "    numTOTA = min(numA)\n",
    "    numTOTB = min(numB)\n",
    "    \n",
    "    TOp_Na = np.zeros(11, dtype=int)\n",
    "    TOp_Nb = np.zeros(11, dtype=int)\n",
    "    TOp_Nc = np.zeros(11, dtype=int)\n",
    "    \n",
    "    for k in range(11):\n",
    "        TOp_Na[k] = Op_Na[k]*t[k]\n",
    "        TOp_Nb[k] = Op_Nb[k]*t[k]\n",
    "        TOp_Nc[k] = Op_Nc[k]*t[k]\n",
    "    \n",
    "    Parcial_Na = Adef.dot(TOp_Na)\n",
    "    Parcial_Nb = Bdef.dot(TOp_Nb)\n",
    "    Op_Sa = Adef.dot(Op_Sa)\n",
    "    Op_Sb = Bdef.dot(Op_Sb)\n",
    "    \n",
    "    TOT_Na = np.sum(TOp_Na) + np.sum(Op_Sa)\n",
    "    TOT_Nb = np.sum(TOp_Nb) + np.sum(Op_Sb)\n",
    "    TOT_Nc = np.sum(TOp_Nc) + np.sum(Op_Sc)\n",
    "    \n",
    "    tempTOT = (TOT_Na + TOT_Nb + TOT_Nc)/(sum_SN)\n",
    "    numT = int((TOT_Na + TOT_Nb + TOT_Nc)/(1290))\n",
    "    \n",
    "    if (tempTOT < 8*60):\n",
    "        custoT = numT*6000\n",
    "    elif (8*60 < tempTOT < 16*60):\n",
    "        custoT = numT*8000\n",
    "    elif (tempTOT > 16*60):\n",
    "        custoT = numT*9000\n",
    "    if (numTOTA + numTOTB == 0):\n",
    "        custo_Prod = int((custoT + sum_SN)/(1*20))\n",
    "    else:\n",
    "        custo_Prod = int((custoT + sum_SN)/((numTOTA + numTOTB)*20))\n",
    "    return custo_Prod, numTOTA, numTOTB\n",
    "\n",
    "def generate_Parent():\n",
    "    genes = np.zeros((size, 3))\n",
    "    for i in range(size):\n",
    "        genes[i, :] = generatePiece()\n",
    "    return genes"
   ]
  },
  {
   "cell_type": "code",
   "execution_count": 43,
   "metadata": {},
   "outputs": [
    {
     "name": "stdout",
     "output_type": "stream",
     "text": [
      "[[9052.    0.    0.]\n",
      " [6982.    0.    0.]\n",
      " [5422.    0.    0.]\n",
      " [4725.    0.    0.]\n",
      " [6457.    0.    0.]\n",
      " [8272.    0.    0.]\n",
      " [8520.    0.    0.]\n",
      " [7140.    0.    0.]\n",
      " [7927.    0.    0.]\n",
      " [5820.    0.    0.]\n",
      " [7530.    0.    0.]\n",
      " [6045.    0.    0.]\n",
      " [7155.    0.    0.]\n",
      " [7350.    0.    0.]\n",
      " [7065.    0.    0.]\n",
      " [5235.    0.    0.]\n",
      " [7492.    0.    0.]\n",
      " [7237.    0.    0.]\n",
      " [7875.    0.    0.]\n",
      " [6015.    0.    0.]\n",
      " [6390.    0.    0.]\n",
      " [8032.    0.    0.]\n",
      " [6330.    0.    0.]\n",
      " [5422.    0.    0.]\n",
      " [6855.    0.    0.]\n",
      " [9195.    0.    0.]\n",
      " [7087.    0.    0.]\n",
      " [4935.    0.    0.]\n",
      " [8145.    0.    0.]\n",
      " [5250.    0.    0.]\n",
      " [8902.    0.    0.]\n",
      " [8287.    0.    0.]\n",
      " [5962.    0.    0.]\n",
      " [8175.    0.    0.]\n",
      " [5535.    0.    0.]\n",
      " [5977.    0.    0.]\n",
      " [5947.    0.    0.]\n",
      " [9127.    0.    0.]\n",
      " [8542.    0.    0.]\n",
      " [7747.    0.    0.]\n",
      " [5722.    0.    0.]\n",
      " [7335.    0.    0.]\n",
      " [8302.    0.    0.]\n",
      " [3915.    0.    0.]\n",
      " [8190.    0.    0.]\n",
      " [5647.    0.    0.]\n",
      " [4357.    0.    0.]\n",
      " [5835.    0.    0.]\n",
      " [6330.    0.    0.]\n",
      " [6127.    0.    0.]]\n"
     ]
    }
   ],
   "source": [
    "genes = generate_Parent()\n",
    "print(genes)"
   ]
  },
  {
   "cell_type": "code",
   "execution_count": 23,
   "metadata": {},
   "outputs": [],
   "source": [
    "def rankFnc(genes):\n",
    "    results = {}\n",
    "    for i in range(size):\n",
    "        if (genes[i,1] <75):\n",
    "            results[i] = 1\n",
    "        else:\n",
    "            results[i] = 0\n",
    "        results[i] += 1 - 1/genes[i,0]\n",
    "    return sorted(results.items(), key = operator.itemgetter(1), reverse = False)"
   ]
  },
  {
   "cell_type": "code",
   "execution_count": 24,
   "metadata": {},
   "outputs": [],
   "source": [
    "results = rankFnc(genes)"
   ]
  },
  {
   "cell_type": "code",
   "execution_count": 25,
   "metadata": {},
   "outputs": [
    {
     "name": "stdout",
     "output_type": "stream",
     "text": [
      "[(18, 1.9997455470737915), (17, 1.9997668997668998), (29, 1.9997792494481237), (44, 1.9997831743278405), (23, 1.9997890295358651), (45, 1.9997893406361913), (4, 1.9997979797979797), (39, 1.999805333852443), (16, 1.999808429118774), (26, 1.999810066476733), (31, 1.9998124531132784), (38, 1.9998160750413831), (25, 1.9998168498168498), (12, 1.9998243148278285), (37, 1.9998259355961707), (6, 1.9998299319727892), (13, 1.9998314227916385), (32, 1.9998322710499832), (42, 1.9998335275511903), (20, 1.9998405103668262), (24, 1.9998423955870765), (49, 1.9998454882571075), (11, 1.9998458455372283), (27, 1.9998463901689707), (48, 1.9998523331364442), (43, 1.999854439592431), (21, 1.9998558454663398), (3, 1.9998566308243726), (7, 1.9998570816064027), (19, 1.9998575498575497), (9, 1.9998578535891969), (22, 1.9998578535891969), (41, 1.9998597868760517), (0, 1.999859943977591), (46, 1.9998602375960868), (8, 1.999860529986053), (1, 1.9998623916334113), (5, 1.999864773495605), (14, 1.9998662565199945), (40, 1.9998665242925786), (35, 1.9998673212153375), (15, 1.9998690242305175), (10, 1.9998749218261413), (28, 1.9998774509803923), (30, 1.9998797643381026), (36, 1.9998824221046443), (2, 1.9998835448934436), (47, 1.9998870949531444), (34, 1.9998912452419795), (33, 1.999894347596408)]\n"
     ]
    }
   ],
   "source": [
    "print(results)"
   ]
  },
  {
   "cell_type": "code",
   "execution_count": 38,
   "metadata": {},
   "outputs": [],
   "source": [
    "eliteSize = 10\n",
    "def selection(results):\n",
    "    selectionResults = []\n",
    "    df = pd.DataFrame(np.array(results), columns=[\"Index\",\"Fitness\"])\n",
    "    df['cum_sum'] = df.Fitness.cumsum()\n",
    "    df['cum_perc'] = 100*df.cum_sum/df.Fitness.sum()\n",
    "    \n",
    "    for i in range(0, eliteSize):\n",
    "        selectionResults.append(results[i][0])\n",
    "    for i in range(0, len(results) - eliteSize):\n",
    "        pick = 100*random.random()\n",
    "        for i in range(0, len(results)):\n",
    "            if pick <= df.iat[i,3]:\n",
    "                selectionResults.append(results[i][0])\n",
    "                break\n",
    "    return selectionResults"
   ]
  },
  {
   "cell_type": "code",
   "execution_count": 39,
   "metadata": {},
   "outputs": [],
   "source": [
    "selectionResults = selection(results)"
   ]
  },
  {
   "cell_type": "code",
   "execution_count": 40,
   "metadata": {},
   "outputs": [
    {
     "name": "stdout",
     "output_type": "stream",
     "text": [
      "[18, 17, 29, 44, 23, 45, 4, 39, 16, 26, 16, 21, 19, 31, 33, 39, 12, 7, 33, 31, 18, 41, 16, 35, 16, 9, 48, 23, 23, 16, 12, 45, 37, 30, 25, 31, 25, 40, 22, 7, 19, 46, 47, 24, 19, 10, 19, 21, 23, 19]\n"
     ]
    }
   ],
   "source": [
    "print(selectionResults)"
   ]
  },
  {
   "cell_type": "code",
   "execution_count": 45,
   "metadata": {
    "collapsed": true
   },
   "outputs": [],
   "source": [
    "def matingPool(genes, selectionResults):\n",
    "    matingpool = []\n",
    "    for i in range(0, len(selectionResults)):\n",
    "        index = selectionResults[i]\n",
    "        matingpool.append(genes[index])\n",
    "    return matingpool"
   ]
  },
  {
   "cell_type": "code",
   "execution_count": 46,
   "metadata": {},
   "outputs": [
    {
     "name": "stdout",
     "output_type": "stream",
     "text": [
      "[array([7875.,    0.,    0.]), array([7237.,    0.,    0.]), array([5250.,    0.,    0.]), array([8190.,    0.,    0.]), array([5422.,    0.,    0.]), array([5647.,    0.,    0.]), array([6457.,    0.,    0.]), array([7747.,    0.,    0.]), array([7492.,    0.,    0.]), array([7087.,    0.,    0.]), array([7492.,    0.,    0.]), array([8032.,    0.,    0.]), array([6015.,    0.,    0.]), array([8287.,    0.,    0.]), array([8175.,    0.,    0.]), array([7747.,    0.,    0.]), array([7155.,    0.,    0.]), array([7140.,    0.,    0.]), array([8175.,    0.,    0.]), array([8287.,    0.,    0.]), array([7875.,    0.,    0.]), array([7335.,    0.,    0.]), array([7492.,    0.,    0.]), array([5977.,    0.,    0.]), array([7492.,    0.,    0.]), array([5820.,    0.,    0.]), array([6330.,    0.,    0.]), array([5422.,    0.,    0.]), array([5422.,    0.,    0.]), array([7492.,    0.,    0.]), array([7155.,    0.,    0.]), array([5647.,    0.,    0.]), array([9127.,    0.,    0.]), array([8902.,    0.,    0.]), array([9195.,    0.,    0.]), array([8287.,    0.,    0.]), array([9195.,    0.,    0.]), array([5722.,    0.,    0.]), array([6330.,    0.,    0.]), array([7140.,    0.,    0.]), array([6015.,    0.,    0.]), array([4357.,    0.,    0.]), array([5835.,    0.,    0.]), array([6855.,    0.,    0.]), array([6015.,    0.,    0.]), array([7530.,    0.,    0.]), array([6015.,    0.,    0.]), array([8032.,    0.,    0.]), array([5422.,    0.,    0.]), array([6015.,    0.,    0.])]\n"
     ]
    }
   ],
   "source": [
    "matingpool = matingPool(genes, selectionResults)\n",
    "print(matingpool)"
   ]
  },
  {
   "cell_type": "code",
   "execution_count": 48,
   "metadata": {},
   "outputs": [],
   "source": [
    "def breed(parent1, parent2):\n",
    "    child = []\n",
    "    childP1 = []\n",
    "    childP2 = []\n",
    "    \n",
    "    geneA = int(random.random() * len(parent1))\n",
    "    geneB = int(random.random() * len(parent1))\n",
    "    \n",
    "    startGene = min(geneA, geneB)\n",
    "    endGene = max(geneA, geneB)\n",
    "\n",
    "    for i in range(startGene, endGene):\n",
    "        childP1.append(parent1[i])\n",
    "        \n",
    "    childP2 = [item for item in parent2 if item not in childP1]\n",
    "\n",
    "    child = childP1 + childP2\n",
    "    return child\n",
    "    \n",
    "def breedPopulation(matingpool, eliteSize):\n",
    "    children = []\n",
    "    length = len(matingpool) - eliteSize\n",
    "    pool = random.sample(matingpool, len(matingpool))\n",
    "\n",
    "    for i in range(0,eliteSize):\n",
    "        children.append(matingpool[i])\n",
    "    \n",
    "    for i in range(0, length):\n",
    "        child = breed(pool[i], pool[len(matingpool)-i-1])\n",
    "        children.append(child)\n",
    "    return children"
   ]
  },
  {
   "cell_type": "code",
   "execution_count": 49,
   "metadata": {},
   "outputs": [
    {
     "name": "stdout",
     "output_type": "stream",
     "text": [
      "[array([7875.,    0.,    0.]), array([7237.,    0.,    0.]), array([5250.,    0.,    0.]), array([8190.,    0.,    0.]), array([5422.,    0.,    0.]), array([5647.,    0.,    0.]), array([6457.,    0.,    0.]), array([7747.,    0.,    0.]), array([7492.,    0.,    0.]), array([7087.,    0.,    0.]), [6457.0, 8287.0, 0.0, 0.0], [0.0, 6855.0], [5250.0, 0.0, 0.0], [7875.0, 0.0, 0.0], [7140.0, 0.0, 0.0], [5647.0, 0.0, 0.0], [0.0, 7155.0], [7335.0, 0.0, 0.0], [6015.0, 0.0, 0.0], [7492.0, 9195.0, 0.0, 0.0], [7087.0, 0.0, 7875.0], [5722.0, 0.0, 0.0], [5422.0, 0.0, 0.0], [5977.0, 0.0, 8902.0], [8287.0, 0.0, 8190.0], [7492.0, 0.0, 0.0], [5422.0, 0.0, 0.0], [7237.0, 0.0, 8032.0], [0.0, 9127.0], [0.0, 7747.0], [0.0, 6330.0], [5820.0, 6330.0, 0.0, 0.0], [0.0, 4357.0], [0.0, 7492.0], [0.0, 5835.0], [9195.0, 0.0, 0.0], [7492.0, 0.0, 0.0], [0.0, 8175.0], [6330.0, 0.0, 5820.0], [6015.0, 0.0, 0.0], [8175.0, 0.0, 0.0], [9127.0, 0.0, 6015.0], [8032.0, 7237.0, 0.0, 0.0], [5422.0, 6015.0, 0.0, 0.0], [0.0, 7492.0], [8287.0, 0.0, 0.0], [0.0, 5977.0], [5647.0, 0.0, 0.0], [5722.0, 0.0, 7530.0], [7087.0, 0.0, 0.0]]\n"
     ]
    }
   ],
   "source": [
    "children  = breedPopulation(matingpool, eliteSize)\n",
    "print(children)"
   ]
  },
  {
   "cell_type": "code",
   "execution_count": 50,
   "metadata": {
    "collapsed": true
   },
   "outputs": [],
   "source": [
    "mutationRate = 0.4\n",
    "\n",
    "def mutate(individual, mutationRate):\n",
    "    for swapped in range(len(individual)):\n",
    "        if(random.random() < mutationRate):\n",
    "            swapWith = int(random.random() * len(individual))\n",
    "            \n",
    "            city1 = individual[swapped]\n",
    "            city2 = individual[swapWith]\n",
    "            \n",
    "            individual[swapped] = city2\n",
    "            individual[swapWith] = city1\n",
    "    return individual\n",
    "\n",
    "def mutatePopulation(population, mutationRate):\n",
    "    mutatedPop = []\n",
    "    \n",
    "    for ind in range(0, len(population)):\n",
    "        mutatedInd = mutate(population[ind], mutationRate)\n",
    "        mutatedPop.append(mutatedInd)\n",
    "    return mutatedPop"
   ]
  },
  {
   "cell_type": "code",
   "execution_count": null,
   "metadata": {
    "collapsed": true
   },
   "outputs": [],
   "source": [
    "def nextGeneration(currentGen, eliteSize, mutationRate):\n",
    "    popRanked = rankRoutes(currentGen)\n",
    "    selectionResults = selection(popRanked, eliteSize)\n",
    "    matingpool = matingPool(currentGen, selectionResults)\n",
    "    children = breedPopulation(matingpool, eliteSize)\n",
    "    nextGeneration = mutatePopulation(children, mutationRate)\n",
    "    return nextGeneration\n",
    "\n",
    "def geneticAlgorithm(genes, size, eliteSize, mutationRate, generations):\n",
    "    pop = initialPopulation(popSize, population)\n",
    "    print(\"Initial distance: \" + str(1 / rankRoutes(pop)[0][1]))\n",
    "    \n",
    "    for i in range(0, generations):\n",
    "        pop = nextGeneration(pop, eliteSize, mutationRate)\n",
    "    \n",
    "    print(\"Final distance: \" + str(1 / rankRoutes(pop)[0][1]))\n",
    "    bestRouteIndex = rankRoutes(pop)[0][0]\n",
    "    bestRoute = pop[bestRouteIndex]\n",
    "    return bestRoute"
   ]
  }
 ],
 "metadata": {
  "kernelspec": {
   "display_name": "Python 3",
   "language": "python",
   "name": "python3"
  },
  "language_info": {
   "codemirror_mode": {
    "name": "ipython",
    "version": 3
   },
   "file_extension": ".py",
   "mimetype": "text/x-python",
   "name": "python",
   "nbconvert_exporter": "python",
   "pygments_lexer": "ipython3",
   "version": "3.6.2"
  }
 },
 "nbformat": 4,
 "nbformat_minor": 2
}
